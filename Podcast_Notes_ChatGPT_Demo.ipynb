{
  "cells": [
    {
      "cell_type": "markdown",
      "metadata": {
        "id": "cd7hyTWUnByL"
      },
      "source": [
        "# Installing dependencies"
      ]
    },
    {
      "cell_type": "code",
      "execution_count": 1,
      "metadata": {
        "colab": {
          "base_uri": "https://localhost:8080/"
        },
        "id": "AeTwSfZum1OQ",
        "outputId": "9d230418-8a6b-4997-9c4d-7039e51bc63f"
      },
      "outputs": [
        {
          "name": "stdout",
          "output_type": "stream",
          "text": [
            "Collecting pyChatGPT\n",
            "  Downloading pyChatGPT-0.4.0-py3-none-any.whl (22 kB)\n",
            "Collecting PyVirtualDisplay>=3.0\n",
            "  Downloading PyVirtualDisplay-3.0-py3-none-any.whl (15 kB)\n",
            "Collecting undetected-chromedriver>=3.1.7\n",
            "  Downloading undetected-chromedriver-3.1.7.tar.gz (58 kB)\n",
            "     -------------------------------------- 58.1/58.1 kB 509.3 kB/s eta 0:00:00\n",
            "  Preparing metadata (setup.py): started\n",
            "  Preparing metadata (setup.py): finished with status 'done'\n",
            "Collecting markdownify>=0.11.6\n",
            "  Downloading markdownify-0.11.6-py3-none-any.whl (16 kB)\n",
            "Requirement already satisfied: beautifulsoup4<5,>=4.9 in c:\\users\\abeke\\appdata\\local\\programs\\python\\python39\\lib\\site-packages (from markdownify>=0.11.6->pyChatGPT) (4.10.0)\n",
            "Requirement already satisfied: six<2,>=1.15 in c:\\users\\abeke\\appdata\\local\\programs\\python\\python39\\lib\\site-packages (from markdownify>=0.11.6->pyChatGPT) (1.15.0)\n",
            "Collecting selenium>=4.0.0\n",
            "  Downloading selenium-4.7.2-py3-none-any.whl (6.3 MB)\n",
            "     ---------------------------------------- 6.3/6.3 MB 2.6 MB/s eta 0:00:00\n",
            "Requirement already satisfied: requests in c:\\users\\abeke\\appdata\\local\\programs\\python\\python39\\lib\\site-packages (from undetected-chromedriver>=3.1.7->pyChatGPT) (2.25.1)\n",
            "Collecting websockets\n",
            "  Downloading websockets-10.4-cp39-cp39-win_amd64.whl (101 kB)\n",
            "     ------------------------------------ 101.4/101.4 kB 487.7 kB/s eta 0:00:00\n",
            "Requirement already satisfied: soupsieve>1.2 in c:\\users\\abeke\\appdata\\local\\programs\\python\\python39\\lib\\site-packages (from beautifulsoup4<5,>=4.9->markdownify>=0.11.6->pyChatGPT) (2.3.1)\n",
            "Collecting certifi>=2021.10.8\n",
            "  Downloading certifi-2022.12.7-py3-none-any.whl (155 kB)\n",
            "     -------------------------------------- 155.3/155.3 kB 2.3 MB/s eta 0:00:00\n",
            "Requirement already satisfied: urllib3[socks]~=1.26 in c:\\users\\abeke\\appdata\\local\\programs\\python\\python39\\lib\\site-packages (from selenium>=4.0.0->undetected-chromedriver>=3.1.7->pyChatGPT) (1.26.2)\n",
            "Collecting trio~=0.17\n",
            "  Downloading trio-0.22.0-py3-none-any.whl (384 kB)\n",
            "     -------------------------------------- 384.9/384.9 kB 2.2 MB/s eta 0:00:00\n",
            "Collecting trio-websocket~=0.9\n",
            "  Downloading trio_websocket-0.9.2-py3-none-any.whl (16 kB)\n",
            "Requirement already satisfied: chardet<5,>=3.0.2 in c:\\users\\abeke\\appdata\\local\\programs\\python\\python39\\lib\\site-packages (from requests->undetected-chromedriver>=3.1.7->pyChatGPT) (4.0.0)\n",
            "Requirement already satisfied: idna<3,>=2.5 in c:\\users\\abeke\\appdata\\local\\programs\\python\\python39\\lib\\site-packages (from requests->undetected-chromedriver>=3.1.7->pyChatGPT) (2.10)\n",
            "Requirement already satisfied: sortedcontainers in c:\\users\\abeke\\appdata\\local\\programs\\python\\python39\\lib\\site-packages (from trio~=0.17->selenium>=4.0.0->undetected-chromedriver>=3.1.7->pyChatGPT) (2.4.0)\n",
            "Collecting sniffio\n",
            "  Using cached sniffio-1.3.0-py3-none-any.whl (10 kB)\n",
            "Requirement already satisfied: async-generator>=1.9 in c:\\users\\abeke\\appdata\\local\\programs\\python\\python39\\lib\\site-packages (from trio~=0.17->selenium>=4.0.0->undetected-chromedriver>=3.1.7->pyChatGPT) (1.10)\n",
            "Requirement already satisfied: attrs>=19.2.0 in c:\\users\\abeke\\appdata\\local\\programs\\python\\python39\\lib\\site-packages (from trio~=0.17->selenium>=4.0.0->undetected-chromedriver>=3.1.7->pyChatGPT) (20.3.0)\n",
            "Collecting exceptiongroup>=1.0.0rc9\n",
            "  Downloading exceptiongroup-1.1.0-py3-none-any.whl (14 kB)\n",
            "Collecting outcome\n",
            "  Downloading outcome-1.2.0-py2.py3-none-any.whl (9.7 kB)\n",
            "Requirement already satisfied: cffi>=1.14 in c:\\users\\abeke\\appdata\\local\\programs\\python\\python39\\lib\\site-packages (from trio~=0.17->selenium>=4.0.0->undetected-chromedriver>=3.1.7->pyChatGPT) (1.14.5)\n",
            "Collecting wsproto>=0.14\n",
            "  Downloading wsproto-1.2.0-py3-none-any.whl (24 kB)\n"
          ]
        },
        {
          "name": "stderr",
          "output_type": "stream",
          "text": [
            "WARNING: There was an error checking the latest version of pip.\n"
          ]
        },
        {
          "name": "stdout",
          "output_type": "stream",
          "text": [
            "Requirement already satisfied: PySocks!=1.5.7,<2.0,>=1.5.6 in c:\\users\\abeke\\appdata\\local\\programs\\python\\python39\\lib\\site-packages (from urllib3[socks]~=1.26->selenium>=4.0.0->undetected-chromedriver>=3.1.7->pyChatGPT) (1.7.1)\n",
            "Requirement already satisfied: pycparser in c:\\users\\abeke\\appdata\\local\\programs\\python\\python39\\lib\\site-packages (from cffi>=1.14->trio~=0.17->selenium>=4.0.0->undetected-chromedriver>=3.1.7->pyChatGPT) (2.20)\n",
            "Collecting h11<1,>=0.9.0\n",
            "  Downloading h11-0.14.0-py3-none-any.whl (58 kB)\n",
            "     ---------------------------------------- 58.3/58.3 kB 1.5 MB/s eta 0:00:00\n",
            "Building wheels for collected packages: undetected-chromedriver\n",
            "  Building wheel for undetected-chromedriver (setup.py): started\n",
            "  Building wheel for undetected-chromedriver (setup.py): finished with status 'done'\n",
            "  Created wheel for undetected-chromedriver: filename=undetected_chromedriver-3.1.7-py3-none-any.whl size=45412 sha256=bf28a88b3f7a11e8caa8f964b6bc0754e96ec8b5e98dc012f95111be51676168\n",
            "  Stored in directory: c:\\users\\abeke\\appdata\\local\\pip\\cache\\wheels\\18\\15\\c6\\11c276bfa7a75cbd09b78e5f68d88eae8b8119e212f4de23b5\n",
            "Successfully built undetected-chromedriver\n",
            "Installing collected packages: PyVirtualDisplay, websockets, sniffio, outcome, h11, exceptiongroup, certifi, wsproto, trio, markdownify, trio-websocket, selenium, undetected-chromedriver, pyChatGPT\n",
            "  Attempting uninstall: certifi\n",
            "    Found existing installation: certifi 2020.12.5\n",
            "    Uninstalling certifi-2020.12.5:\n",
            "      Successfully uninstalled certifi-2020.12.5\n",
            "Successfully installed PyVirtualDisplay-3.0 certifi-2022.12.7 exceptiongroup-1.1.0 h11-0.14.0 markdownify-0.11.6 outcome-1.2.0 pyChatGPT-0.4.0 selenium-4.7.2 sniffio-1.3.0 trio-0.22.0 trio-websocket-0.9.2 undetected-chromedriver-3.1.7 websockets-10.4 wsproto-1.2.0\n"
          ]
        }
      ],
      "source": [
        "!pip install pyChatGPT"
      ]
    },
    {
      "cell_type": "code",
      "execution_count": 2,
      "metadata": {
        "colab": {
          "base_uri": "https://localhost:8080/"
        },
        "id": "67Y9COSam4OO",
        "outputId": "c0c50813-ade2-4abd-8029-41d27595fd10"
      },
      "outputs": [
        {
          "name": "stdout",
          "output_type": "stream",
          "text": [
            "Collecting youtube-transcript-api\n",
            "  Downloading youtube_transcript_api-0.5.0-py3-none-any.whl (23 kB)\n",
            "Requirement already satisfied: requests in c:\\users\\abeke\\appdata\\local\\programs\\python\\python39\\lib\\site-packages (from youtube-transcript-api) (2.25.1)\n",
            "Requirement already satisfied: idna<3,>=2.5 in c:\\users\\abeke\\appdata\\local\\programs\\python\\python39\\lib\\site-packages (from requests->youtube-transcript-api) (2.10)\n",
            "Requirement already satisfied: chardet<5,>=3.0.2 in c:\\users\\abeke\\appdata\\local\\programs\\python\\python39\\lib\\site-packages (from requests->youtube-transcript-api) (4.0.0)\n",
            "Requirement already satisfied: urllib3<1.27,>=1.21.1 in c:\\users\\abeke\\appdata\\local\\programs\\python\\python39\\lib\\site-packages (from requests->youtube-transcript-api) (1.26.2)\n",
            "Requirement already satisfied: certifi>=2017.4.17 in c:\\users\\abeke\\appdata\\local\\programs\\python\\python39\\lib\\site-packages (from requests->youtube-transcript-api) (2022.12.7)\n",
            "Installing collected packages: youtube-transcript-api\n",
            "Successfully installed youtube-transcript-api-0.5.0\n"
          ]
        },
        {
          "name": "stderr",
          "output_type": "stream",
          "text": [
            "WARNING: There was an error checking the latest version of pip.\n"
          ]
        }
      ],
      "source": [
        "!pip install youtube-transcript-api"
      ]
    },
    {
      "cell_type": "code",
      "execution_count": 25,
      "metadata": {},
      "outputs": [
        {
          "name": "stdout",
          "output_type": "stream",
          "text": [
            "Collecting python-dotenv\n",
            "  Downloading python_dotenv-0.21.0-py3-none-any.whl (18 kB)\n",
            "Installing collected packages: python-dotenv\n",
            "Successfully installed python-dotenv-0.21.0\n"
          ]
        },
        {
          "name": "stderr",
          "output_type": "stream",
          "text": [
            "WARNING: There was an error checking the latest version of pip.\n"
          ]
        }
      ],
      "source": [
        "! pip install python-dotenv"
      ]
    },
    {
      "cell_type": "code",
      "execution_count": null,
      "metadata": {
        "colab": {
          "base_uri": "https://localhost:8080/"
        },
        "id": "PdgXaVAooRWn",
        "outputId": "f5fd2f73-b422-42f5-a0c0-67409ace9a5a"
      },
      "outputs": [],
      "source": [
        "# # install dependencies\n",
        "# !apt install chromium-browser xvfb\n",
        "# !pip install -U selenium_profiles pyChatGPT"
      ]
    },
    {
      "cell_type": "markdown",
      "metadata": {
        "id": "QpzsU1vlnPnr"
      },
      "source": [
        "# Imports"
      ]
    },
    {
      "cell_type": "code",
      "execution_count": 27,
      "metadata": {
        "id": "4s2lpskbnH_e"
      },
      "outputs": [],
      "source": [
        "from pyChatGPT import ChatGPT\n",
        "from youtube_transcript_api import YouTubeTranscriptApi\n",
        "from dotenv import load_dotenv\n",
        "\n",
        "load_dotenv()\n",
        "\n",
        "import os\n",
        "\n",
        "# install chromedriver\n",
        "# from selenium_profiles.utils.installer import install_chromedriver\n",
        "# install_chromedriver()"
      ]
    },
    {
      "cell_type": "markdown",
      "metadata": {
        "id": "uEqXAs_GrENu"
      },
      "source": [
        "# YouTubeTranscriptApi Setup"
      ]
    },
    {
      "cell_type": "code",
      "execution_count": 4,
      "metadata": {
        "id": "oIMUl3b5rEjz"
      },
      "outputs": [],
      "source": [
        "result = YouTubeTranscriptApi.get_transcript('q1Ss8sTbFBY')"
      ]
    },
    {
      "cell_type": "code",
      "execution_count": 14,
      "metadata": {
        "id": "Pf6inzalrVaj"
      },
      "outputs": [],
      "source": [
        "curr_time = 0\n",
        "interval = 1\n",
        "text = []\n",
        "curr_text = \"\"\n",
        "for obj in result:\n",
        "  curr_text += obj['text']\n",
        "  curr_time = obj['start']\n",
        "  if curr_time > interval * 600:\n",
        "    text.append(curr_text)\n",
        "    curr_text = \"\"\n",
        "    interval += 1"
      ]
    },
    {
      "cell_type": "code",
      "execution_count": 16,
      "metadata": {},
      "outputs": [
        {
          "data": {
            "text/plain": [
              "11"
            ]
          },
          "execution_count": 16,
          "metadata": {},
          "output_type": "execute_result"
        }
      ],
      "source": [
        "len(text)"
      ]
    },
    {
      "cell_type": "markdown",
      "metadata": {
        "id": "pypZybIJnRKW"
      },
      "source": [
        "# ChatGPT API Setup"
      ]
    },
    {
      "cell_type": "code",
      "execution_count": 17,
      "metadata": {
        "colab": {
          "base_uri": "https://localhost:8080/"
        },
        "id": "TQSR5zW8nMgJ",
        "outputId": "30f74d69-d39e-4d97-b563-544a98f1ecb2"
      },
      "outputs": [],
      "source": [
        "# session_token = 'eyJhbGciOiJkaXIiLCJlbmMiOiJBMjU2R0NNIn0..oSsqt9Uc4ozsB8z_.8YqJZ12iBK3M1sIt6bGwqEhCY6wjSuLLGpDOJeSH8fwfjokoMuha3DWj8e0mNk8DCwR-EEsnbGiwTLSlpvmIS_Nd8QQT7JJHxaUx1q8jfN18KRJu-Ej69f-t2RMV6eZNgl03-BC2-vA4khtCjAtREt6gwhLukVltSVcjKfYkyXjJdXvA2fcoGb1VHxXkTbEed2h6ntIPcj9o5W1qTkLx79wY9MG0OiA1UyZiSmpnM8E0Uy8Tbf6vOeisvam-iRS4YNxd5f-zpBRT9REPA3N27LYiURkY0bNoqY0aO_eUGDHvh8iv6zYo5rNOa3atrtz06aXOdVLAICAi4Zv9ASPaNVB3RPd_WAg5MnsDA3A8Dd4G-TSv2A6CU3eZAxPNiUSbt-FjQ7zEo3u0kBRhBrpnCd1xLaNJzc_QIidISvXboa0N3OovdJF-3zdo4T5rHblCrswKQj08DCOeaa9KqIp-1ZvJ1mGH6-jROHd9nJqsau62p1droMAui_fX8zPukekgQhlI9g6zReEfL-Hx4ZCcIQ5mAleqz2gqlGXWwRKJNKBps0dhtFNi1umnmdqDZoH-Lu5nlNqrDxUtTjJOFJT1336h8EnaUo6rRrLVkUvyCls6YzdLjB7K_ZA27hRUV7DdvI9y2YO-HcjJ9z4kJKK3wFfCNIC1JibEWNKIoAxip7cSMuBY7h7jt7twCBh3XkseUib6Y3fgXCrRr4IqNgGNNvDmio5784G_TgfD8tQVuy8dcRdVmU8fQUt4H11ZhE2oRFSL2j9MhsIE5Sg7TFcKwee9b8pY2I11b-QMUfr_-x5UAHvGcr2E0eX17Ca9shkpJeF4v8RT1-HMA__bdX5UgUyGD0bgvJjSy6S4lfUIMOId_xpugAVq7K12gfDd8Qvtz65BhepGqSNvHraCaMR_i7doOCxt6x7yNb0dWvd0i_0_JW9GvqxD9lr38GQzWKNwkuLgP3-lE-kMcd0cSxL7fzc3Dy0l7NGf9AAPRjl_RGohd6RSafH9eDogdBClVVFwoXdFMENForuVF7c84GtS7qq5RiSCPI-hUi1RRbz_mGReA4y8zyv9V12w0-EftqIdBBKcK8aUjNFL4FzVxTUzG_v6zI9QVHAs_gtvsPB6VPS31dB1knKc7jmPfS30qdhaZ53-StQr54sPb955oaR6uf76iSf4-nQBc1hoRK0J3NfyqtexhyyvoEAkZJ5NrPFanm7dULBg8udAYsvnnca-SSoiN5ewO_ht61TsBfkA4LbNfmA7qOUHAFcoC29nxaia--oVte-FrcKZQ7Afxj-yBIemJ0wrioc913xcKT2tMqnAdUADmoIrr-6tQEYeY4NrkQAQd1vvVB_-Lh-OltGCxuYCNEfSTtxusM34VzJgh49irIedwQOrt7IVD_a_QBaHaRlZJmzxm7WM-jilftSB6W-mbQtqIPWQfA3kmXN6zyDYbcXZuCe2ZBzdIyu7FDeWa5pSzWa5Ca-5juHMTFfoUMer_iPumWb7MGHc4Dn7KRBhrEYMKbCWMWgk8JfMziOaTYEKkK7nVb2VQnN1uIqK_hnRKmfwJpgoH9AzvRNkwWNYEQPdsC15bEEgw0w_Qv-r7sdopAYTWc2tYLJCk7s2ShfMTOWrF0d-wC9gJ7e0FgUcNQzY9PEW_jVfvJMZuDAuWxDN4HIgr_b_GoLvykn_U_w2aa_OUjAXy_flcN29Su33RGbokSFqkmpsxxnK9h29AF8WbKUFX6IgUKl8h17LPVrxmrQ3AyS6ZEEcLY1Rw2D5zWyVpBAw-fOus-gD2vC-rqAgTu08nXSzlmbZvPk0-fuKTblBTklDYifpiu37NWYGZhSJ5k3zZRlVyyFdJHaKpYd_ecSwMTNeRBA4L4PetK4K5V-y-8LPfskrmKaZS04n8yhWQak3aXOgt6KmxTafYwsno0sg5XtPAjvxqawYxalq2Rk6uMWOzke3tN6hHhzzZ1z7dA1V__tucBlEeZxlN-4SvOLSC_rLx9OCNqAQT5K-BF9RuUkFhEVUsTAGkWS7scPghLdzQ0LEBVAHYxTpJNVFRR3oJd7Nslp2NN5QJay2xnPuRF2qaXeuh7Z73yvXObKt3WlFtV1LFAS73GQNQ55DSW97BFMO8LJuEzFYzEnZJbpY3EpMjU3cQUSX_HnMStodlv6Dl_Z_ORZ-Y8zr46f8RO1mFsTG9jnOB1lPbWN__6hW36coKTBfeLjCTLQdHsk1X1WzSoZ-lCafbrNcuytE7cwOWlrQsnkNnk2dVnVU55jQA7-Y--Gys3li2OfMSv7SNKFgBGy8wkjPK4QRri1p42D4uoN779hsSN9vbB4A7DozwZiqhlJogRB6SBs93AhttVoHsKki2pU.Yz5UVfmUXKykKyRtSy5Uag'\n",
        "# api = ChatGPT(session_token)  # auth with session token"
      ]
    },
    {
      "cell_type": "code",
      "execution_count": 28,
      "metadata": {},
      "outputs": [],
      "source": [
        "email = os.getenv(\"EMAIL\")\n",
        "password = os.getenv(\"PASSWORD\")"
      ]
    },
    {
      "cell_type": "code",
      "execution_count": 31,
      "metadata": {
        "id": "8p0eX8IPnOHF"
      },
      "outputs": [],
      "source": [
        "api = ChatGPT(auth_type='openai', email=email, password=password)  # auth with email and password"
      ]
    },
    {
      "cell_type": "code",
      "execution_count": 32,
      "metadata": {},
      "outputs": [
        {
          "name": "stderr",
          "output_type": "stream",
          "text": [
            "WARNING:urllib3.connectionpool:Connection pool is full, discarding connection: localhost\n",
            "WARNING:urllib3.connectionpool:Connection pool is full, discarding connection: localhost\n",
            "WARNING:urllib3.connectionpool:Connection pool is full, discarding connection: localhost\n",
            "WARNING:urllib3.connectionpool:Connection pool is full, discarding connection: localhost\n",
            "WARNING:urllib3.connectionpool:Connection pool is full, discarding connection: localhost\n",
            "WARNING:urllib3.connectionpool:Connection pool is full, discarding connection: localhost\n",
            "WARNING:urllib3.connectionpool:Connection pool is full, discarding connection: localhost\n",
            "WARNING:urllib3.connectionpool:Connection pool is full, discarding connection: localhost\n",
            "WARNING:urllib3.connectionpool:Connection pool is full, discarding connection: localhost\n",
            "WARNING:urllib3.connectionpool:Connection pool is full, discarding connection: localhost\n",
            "WARNING:urllib3.connectionpool:Connection pool is full, discarding connection: localhost\n",
            "WARNING:urllib3.connectionpool:Connection pool is full, discarding connection: localhost\n",
            "WARNING:urllib3.connectionpool:Connection pool is full, discarding connection: localhost\n",
            "WARNING:urllib3.connectionpool:Connection pool is full, discarding connection: localhost\n",
            "WARNING:urllib3.connectionpool:Connection pool is full, discarding connection: localhost\n"
          ]
        }
      ],
      "source": [
        "notes = \"\"\n",
        "prompt = \"Based on the following YouTube transcript provide a 5 bullet point summary in complete sentences: \\n\"\n",
        "\n",
        "for i in range(len(text)):\n",
        "    notes += api.send_message(prompt + text[i])['message'] + \"\\n\""
      ]
    },
    {
      "cell_type": "code",
      "execution_count": 33,
      "metadata": {},
      "outputs": [
        {
          "name": "stdout",
          "output_type": "stream",
          "text": [
            "1. The Huberman Lab podcast discusses science and science-based tools for everyday life, with a focus on fitness in this episode.\n",
            "2. Fitness is important for various aspects of health, including cardiovascular function, strength, endurance, lifespan, and healthspan.\n",
            "3. The episode synthesizes information from various expert guests on the podcast to provide a general template for optimizing all aspects of fitness.\n",
            "4. The template can be modified for specific goals, such as building strength or endurance.\n",
            "5. The Huberman Lab podcast has launched a premium channel in response to questions from listeners about specific topics and protocols. The premium channel will offer additional content, while the regular podcast will continue to be released for free.\n",
            "\n",
            "1. A study found that people who did soleus pushups (lifting and lowering the heel while seated) experienced significant improvements in blood sugar regulation and metabolism.\n",
            "2. These benefits occurred despite the soleus muscle being just 1% of total muscle mass and using very little local energy.\n",
            "3. The study saw a 52% reduction in post-meal glucose excursion and a 60% reduction in hyperinsulinemia.\n",
            "4. The study's findings suggest that doing soleus pushups continuously while seated could be beneficial for those interested in improving metabolic health.\n",
            "5. The study recommends doing 270 minutes (four and a half hours) of soleus pushups per day, though it is suggested that doing less may still be beneficial.\n",
            "\n",
            "1. There are different types of endurance, including muscular endurance, anaerobic endurance, and endurance lasting 30 minutes or more.\n",
            "2. Improving different aspects of fitness requires understanding modifiable variables and principles like progressive overload.\n",
            "3. The Huberman Lab podcast has previously covered the mechanisms underlying different adaptations, such as speed and strength.\n",
            "4. Today's episode will focus on a foundational template for a fitness protocol that can be modified for specific goals, such as building strength or endurance.\n",
            "5. The foundational protocol involves a combination of strength and endurance training, as well as flexibility and hypertrophy work, and can be customized for individual needs.\n",
            "\n",
            "1. Cardio endurance, or the ability to sustain physical activity for a long period of time, is important for overall health and longevity.\n",
            "2. To improve cardio endurance, it is recommended to do 180-200 minutes of zone 2 cardio per week.\n",
            "3. Zone 2 cardio is defined as moderate intensity exercise where the heart rate is at 50-70% of the maximum heart rate.\n",
            "4. A long endurance workout, such as a 75-minute jog or 3-hour hike, can be done on Sundays to check off a significant portion of the weekly endurance goal.\n",
            "5. As fitness improves, time or weight can be added to the endurance workout to continue to challenge the body and improve endurance.\n",
            "\n",
            "1. The speaker recommends training each muscle group twice per week, with longer periods of rest in between workouts.\n",
            "2. The speaker emphasizes the importance of selecting exercises that can be performed safely.\n",
            "3. For each muscle group, the speaker recommends choosing one exercise that puts the muscle in a weighted stretch position and another that creates contraction in the shortened position.\n",
            "4. The speaker suggests incorporating compound movements or exercises with a larger range of motion for muscle groups.\n",
            "5. The speaker recommends training legs on Monday and incorporating a high intensity interval training session on Friday that serves as a supplement for leg muscles.\n",
            "\n",
            "1. The speaker begins their weekly fitness routine with a long endurance workout on Sunday, consisting of jogging or hiking for 75 minutes in a heart rate zone that is elevated but not too high to cause breathlessness.\n",
            "2. On Monday, the speaker does a leg workout that is 50-60 minutes long and consists of two exercises per muscle group.\n",
            "3. On Tuesday, the speaker takes a day off from endurance and resistance training and instead does heat cold contrast therapy, consisting of multiple rounds of heat exposure in a sauna or hot bath followed by cold exposure in an ice bath or cold shower.\n",
            "4. On Wednesday, the speaker does a high intensity interval training (HIIT) workout that is 20-25 minutes long and focuses on maximal effort exercises.\n",
            "5. On Thursday and Friday, the speaker does a full body weight training workout that is 50-60 minutes long and includes compound movements as well as isolation exercises.\n",
            "\n",
            "1. The speaker trains each muscle group twice per week, once directly and once indirectly, either during another weight training workout or during a cardiovascular endurance training workout.\n",
            "2. On Tuesday, the speaker engages in heat cold contrast therapy, which involves spending time in a hot sauna and then in cold water or taking hot baths and cold showers. This helps with recovery and has other health benefits.\n",
            "3. On Wednesday, the speaker trains the muscles of the torso in a push-pull fashion, alternating between pushing exercises (such as bench presses) and pulling exercises (such as bent-over rows).\n",
            "4. On Thursday, the speaker trains the upper body, including the arms, shoulders, and back. They recommend doing two exercises per muscle group, one where the muscle is in a stretched position and one where it is in a shortened position.\n",
            "5. On Friday, the speaker does high intensity interval training, which serves as a supplement to their quadriceps, hamstrings, and calves, allowing them to maintain strength and generally build strength between leg workouts.\n",
            "\n",
            "1. Thursday is a cardio day in this fitness protocol, with the recommended activity being a 35-minute run at 75-80% of maximum effort.\n",
            "2. This workout aims to improve multiple aspects of endurance, including muscular endurance, anaerobic endurance, and cardiovascular endurance.\n",
            "3. If running is not an option, alternative activities include rowing, stationary cycling, burpees, or fast jumping jacks.\n",
            "4. On Friday, the recommended workout is a high intensity interval training (HIIT) session, consisting of 6-10 repetitions of 20 seconds of maximal effort followed by 10 seconds of rest.\n",
            "5. This type of workout aims to improve anaerobic endurance, as well as stimulate the release of growth hormone and other hormones that can promote muscle growth.\n",
            "\n",
            "1. The Friday workout is focused on high intensity interval training (HIIT) to increase heart rate and improve endurance.\n",
            "2. It is important to not perform all out sprints or other exercises with poor form in order to prevent injury.\n",
            "3. Saturday is dedicated to training arms, calves, and neck, as well as indirectly training the torso.\n",
            "4. The goal for this workout is to stimulate strength and hypertrophy in small muscle groups, such as the biceps, triceps, and calves.\n",
            "5. It is not necessary to train the torso twice a week, especially if you have low recovery ability.\n",
            "\n",
            "1. This foundational fitness program aims to provide a balance of endurance, cardiovascular, and resistance training.\n",
            "2. The program includes a long endurance workout on Sunday, a moderate faster endurance workout on Thursday, and a high intensity interval training workout on Friday.\n",
            "3. Resistance training for every muscle group, including legs, torso, and arms, is also a key component of the program.\n",
            "4. The specific days of the week on which each workout is performed is not as important as the spacing between them.\n",
            "5. The mind-muscle connection is important during resistance training to ensure proper muscle activation and improve gains in strength and hypertrophy.\n",
            "\n",
            "1. Cardiovascular exercise should be incorporated into a weekly fitness routine to increase heart rate and trigger muscle adaptations in the legs.\n",
            "2. It is important to be careful when doing all-out sprints or other high-intensity cardiovascular exercises to avoid injury.\n",
            "3. A weekly fitness routine should include long endurance, moderate faster endurance, and high intensity interval training workouts, as well as resistance training for every muscle group in the body.\n",
            "4. Training fasted, rather than fed, is preferred for cardiovascular and resistance training workouts.\n",
            "5. Static stretches, held for 30-60 seconds and repeated 2-3 times, can be effective for increasing flexibility. Dynamic stretches, which involve movement, are better for warming up before a workout.\n",
            "\n",
            "\n"
          ]
        }
      ],
      "source": [
        "pretty_notes = notes.split(\"\\n\")\n",
        "\n",
        "for i in range(len(pretty_notes)):\n",
        "    print(pretty_notes[i])"
      ]
    },
    {
      "cell_type": "code",
      "execution_count": 34,
      "metadata": {
        "id": "TgN9hwsmnBvX"
      },
      "outputs": [
        {
          "name": "stderr",
          "output_type": "stream",
          "text": [
            "WARNING:urllib3.connectionpool:Connection pool is full, discarding connection: localhost\n"
          ]
        }
      ],
      "source": [
        "api.reset_conversation()  # reset the conversation\n",
        "api.refresh_chat_page()  # refresh the chat page"
      ]
    },
    {
      "cell_type": "code",
      "execution_count": null,
      "metadata": {},
      "outputs": [],
      "source": []
    }
  ],
  "metadata": {
    "colab": {
      "provenance": []
    },
    "kernelspec": {
      "display_name": "Python 3",
      "language": "python",
      "name": "python3"
    },
    "language_info": {
      "codemirror_mode": {
        "name": "ipython",
        "version": 3
      },
      "file_extension": ".py",
      "mimetype": "text/x-python",
      "name": "python",
      "nbconvert_exporter": "python",
      "pygments_lexer": "ipython3",
      "version": "3.9.1 (tags/v3.9.1:1e5d33e, Dec  7 2020, 17:08:21) [MSC v.1927 64 bit (AMD64)]"
    },
    "vscode": {
      "interpreter": {
        "hash": "2c1715a88d06923266e8248b82b3e765c4bf779c2d6765688e4035450030da9c"
      }
    }
  },
  "nbformat": 4,
  "nbformat_minor": 0
}
