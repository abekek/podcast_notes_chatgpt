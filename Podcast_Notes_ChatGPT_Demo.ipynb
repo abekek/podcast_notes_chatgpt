{
  "cells": [
    {
      "cell_type": "markdown",
      "metadata": {
        "id": "cd7hyTWUnByL"
      },
      "source": [
        "# Installing dependencies"
      ]
    },
    {
      "cell_type": "code",
      "execution_count": 1,
      "metadata": {
        "colab": {
          "base_uri": "https://localhost:8080/"
        },
        "id": "AeTwSfZum1OQ",
        "outputId": "9d230418-8a6b-4997-9c4d-7039e51bc63f"
      },
      "outputs": [
        {
          "name": "stdout",
          "output_type": "stream",
          "text": [
            "Collecting pyChatGPT\n",
            "  Downloading pyChatGPT-0.4.0-py3-none-any.whl (22 kB)\n",
            "Collecting PyVirtualDisplay>=3.0\n",
            "  Downloading PyVirtualDisplay-3.0-py3-none-any.whl (15 kB)\n",
            "Collecting undetected-chromedriver>=3.1.7\n",
            "  Downloading undetected-chromedriver-3.1.7.tar.gz (58 kB)\n",
            "     -------------------------------------- 58.1/58.1 kB 509.3 kB/s eta 0:00:00\n",
            "  Preparing metadata (setup.py): started\n",
            "  Preparing metadata (setup.py): finished with status 'done'\n",
            "Collecting markdownify>=0.11.6\n",
            "  Downloading markdownify-0.11.6-py3-none-any.whl (16 kB)\n",
            "Requirement already satisfied: beautifulsoup4<5,>=4.9 in c:\\users\\abeke\\appdata\\local\\programs\\python\\python39\\lib\\site-packages (from markdownify>=0.11.6->pyChatGPT) (4.10.0)\n",
            "Requirement already satisfied: six<2,>=1.15 in c:\\users\\abeke\\appdata\\local\\programs\\python\\python39\\lib\\site-packages (from markdownify>=0.11.6->pyChatGPT) (1.15.0)\n",
            "Collecting selenium>=4.0.0\n",
            "  Downloading selenium-4.7.2-py3-none-any.whl (6.3 MB)\n",
            "     ---------------------------------------- 6.3/6.3 MB 2.6 MB/s eta 0:00:00\n",
            "Requirement already satisfied: requests in c:\\users\\abeke\\appdata\\local\\programs\\python\\python39\\lib\\site-packages (from undetected-chromedriver>=3.1.7->pyChatGPT) (2.25.1)\n",
            "Collecting websockets\n",
            "  Downloading websockets-10.4-cp39-cp39-win_amd64.whl (101 kB)\n",
            "     ------------------------------------ 101.4/101.4 kB 487.7 kB/s eta 0:00:00\n",
            "Requirement already satisfied: soupsieve>1.2 in c:\\users\\abeke\\appdata\\local\\programs\\python\\python39\\lib\\site-packages (from beautifulsoup4<5,>=4.9->markdownify>=0.11.6->pyChatGPT) (2.3.1)\n",
            "Collecting certifi>=2021.10.8\n",
            "  Downloading certifi-2022.12.7-py3-none-any.whl (155 kB)\n",
            "     -------------------------------------- 155.3/155.3 kB 2.3 MB/s eta 0:00:00\n",
            "Requirement already satisfied: urllib3[socks]~=1.26 in c:\\users\\abeke\\appdata\\local\\programs\\python\\python39\\lib\\site-packages (from selenium>=4.0.0->undetected-chromedriver>=3.1.7->pyChatGPT) (1.26.2)\n",
            "Collecting trio~=0.17\n",
            "  Downloading trio-0.22.0-py3-none-any.whl (384 kB)\n",
            "     -------------------------------------- 384.9/384.9 kB 2.2 MB/s eta 0:00:00\n",
            "Collecting trio-websocket~=0.9\n",
            "  Downloading trio_websocket-0.9.2-py3-none-any.whl (16 kB)\n",
            "Requirement already satisfied: chardet<5,>=3.0.2 in c:\\users\\abeke\\appdata\\local\\programs\\python\\python39\\lib\\site-packages (from requests->undetected-chromedriver>=3.1.7->pyChatGPT) (4.0.0)\n",
            "Requirement already satisfied: idna<3,>=2.5 in c:\\users\\abeke\\appdata\\local\\programs\\python\\python39\\lib\\site-packages (from requests->undetected-chromedriver>=3.1.7->pyChatGPT) (2.10)\n",
            "Requirement already satisfied: sortedcontainers in c:\\users\\abeke\\appdata\\local\\programs\\python\\python39\\lib\\site-packages (from trio~=0.17->selenium>=4.0.0->undetected-chromedriver>=3.1.7->pyChatGPT) (2.4.0)\n",
            "Collecting sniffio\n",
            "  Using cached sniffio-1.3.0-py3-none-any.whl (10 kB)\n",
            "Requirement already satisfied: async-generator>=1.9 in c:\\users\\abeke\\appdata\\local\\programs\\python\\python39\\lib\\site-packages (from trio~=0.17->selenium>=4.0.0->undetected-chromedriver>=3.1.7->pyChatGPT) (1.10)\n",
            "Requirement already satisfied: attrs>=19.2.0 in c:\\users\\abeke\\appdata\\local\\programs\\python\\python39\\lib\\site-packages (from trio~=0.17->selenium>=4.0.0->undetected-chromedriver>=3.1.7->pyChatGPT) (20.3.0)\n",
            "Collecting exceptiongroup>=1.0.0rc9\n",
            "  Downloading exceptiongroup-1.1.0-py3-none-any.whl (14 kB)\n",
            "Collecting outcome\n",
            "  Downloading outcome-1.2.0-py2.py3-none-any.whl (9.7 kB)\n",
            "Requirement already satisfied: cffi>=1.14 in c:\\users\\abeke\\appdata\\local\\programs\\python\\python39\\lib\\site-packages (from trio~=0.17->selenium>=4.0.0->undetected-chromedriver>=3.1.7->pyChatGPT) (1.14.5)\n",
            "Collecting wsproto>=0.14\n",
            "  Downloading wsproto-1.2.0-py3-none-any.whl (24 kB)\n"
          ]
        },
        {
          "name": "stderr",
          "output_type": "stream",
          "text": [
            "WARNING: There was an error checking the latest version of pip.\n"
          ]
        },
        {
          "name": "stdout",
          "output_type": "stream",
          "text": [
            "Requirement already satisfied: PySocks!=1.5.7,<2.0,>=1.5.6 in c:\\users\\abeke\\appdata\\local\\programs\\python\\python39\\lib\\site-packages (from urllib3[socks]~=1.26->selenium>=4.0.0->undetected-chromedriver>=3.1.7->pyChatGPT) (1.7.1)\n",
            "Requirement already satisfied: pycparser in c:\\users\\abeke\\appdata\\local\\programs\\python\\python39\\lib\\site-packages (from cffi>=1.14->trio~=0.17->selenium>=4.0.0->undetected-chromedriver>=3.1.7->pyChatGPT) (2.20)\n",
            "Collecting h11<1,>=0.9.0\n",
            "  Downloading h11-0.14.0-py3-none-any.whl (58 kB)\n",
            "     ---------------------------------------- 58.3/58.3 kB 1.5 MB/s eta 0:00:00\n",
            "Building wheels for collected packages: undetected-chromedriver\n",
            "  Building wheel for undetected-chromedriver (setup.py): started\n",
            "  Building wheel for undetected-chromedriver (setup.py): finished with status 'done'\n",
            "  Created wheel for undetected-chromedriver: filename=undetected_chromedriver-3.1.7-py3-none-any.whl size=45412 sha256=bf28a88b3f7a11e8caa8f964b6bc0754e96ec8b5e98dc012f95111be51676168\n",
            "  Stored in directory: c:\\users\\abeke\\appdata\\local\\pip\\cache\\wheels\\18\\15\\c6\\11c276bfa7a75cbd09b78e5f68d88eae8b8119e212f4de23b5\n",
            "Successfully built undetected-chromedriver\n",
            "Installing collected packages: PyVirtualDisplay, websockets, sniffio, outcome, h11, exceptiongroup, certifi, wsproto, trio, markdownify, trio-websocket, selenium, undetected-chromedriver, pyChatGPT\n",
            "  Attempting uninstall: certifi\n",
            "    Found existing installation: certifi 2020.12.5\n",
            "    Uninstalling certifi-2020.12.5:\n",
            "      Successfully uninstalled certifi-2020.12.5\n",
            "Successfully installed PyVirtualDisplay-3.0 certifi-2022.12.7 exceptiongroup-1.1.0 h11-0.14.0 markdownify-0.11.6 outcome-1.2.0 pyChatGPT-0.4.0 selenium-4.7.2 sniffio-1.3.0 trio-0.22.0 trio-websocket-0.9.2 undetected-chromedriver-3.1.7 websockets-10.4 wsproto-1.2.0\n"
          ]
        }
      ],
      "source": [
        "!pip install pyChatGPT"
      ]
    },
    {
      "cell_type": "code",
      "execution_count": 2,
      "metadata": {
        "colab": {
          "base_uri": "https://localhost:8080/"
        },
        "id": "67Y9COSam4OO",
        "outputId": "c0c50813-ade2-4abd-8029-41d27595fd10"
      },
      "outputs": [
        {
          "name": "stdout",
          "output_type": "stream",
          "text": [
            "Collecting youtube-transcript-api\n",
            "  Downloading youtube_transcript_api-0.5.0-py3-none-any.whl (23 kB)\n",
            "Requirement already satisfied: requests in c:\\users\\abeke\\appdata\\local\\programs\\python\\python39\\lib\\site-packages (from youtube-transcript-api) (2.25.1)\n",
            "Requirement already satisfied: idna<3,>=2.5 in c:\\users\\abeke\\appdata\\local\\programs\\python\\python39\\lib\\site-packages (from requests->youtube-transcript-api) (2.10)\n",
            "Requirement already satisfied: chardet<5,>=3.0.2 in c:\\users\\abeke\\appdata\\local\\programs\\python\\python39\\lib\\site-packages (from requests->youtube-transcript-api) (4.0.0)\n",
            "Requirement already satisfied: urllib3<1.27,>=1.21.1 in c:\\users\\abeke\\appdata\\local\\programs\\python\\python39\\lib\\site-packages (from requests->youtube-transcript-api) (1.26.2)\n",
            "Requirement already satisfied: certifi>=2017.4.17 in c:\\users\\abeke\\appdata\\local\\programs\\python\\python39\\lib\\site-packages (from requests->youtube-transcript-api) (2022.12.7)\n",
            "Installing collected packages: youtube-transcript-api\n",
            "Successfully installed youtube-transcript-api-0.5.0\n"
          ]
        },
        {
          "name": "stderr",
          "output_type": "stream",
          "text": [
            "WARNING: There was an error checking the latest version of pip.\n"
          ]
        }
      ],
      "source": [
        "!pip install youtube-transcript-api"
      ]
    },
    {
      "cell_type": "code",
      "execution_count": 25,
      "metadata": {},
      "outputs": [
        {
          "name": "stdout",
          "output_type": "stream",
          "text": [
            "Collecting python-dotenv\n",
            "  Downloading python_dotenv-0.21.0-py3-none-any.whl (18 kB)\n",
            "Installing collected packages: python-dotenv\n",
            "Successfully installed python-dotenv-0.21.0\n"
          ]
        },
        {
          "name": "stderr",
          "output_type": "stream",
          "text": [
            "WARNING: There was an error checking the latest version of pip.\n"
          ]
        }
      ],
      "source": [
        "! pip install python-dotenv"
      ]
    },
    {
      "cell_type": "code",
      "execution_count": null,
      "metadata": {
        "colab": {
          "base_uri": "https://localhost:8080/"
        },
        "id": "PdgXaVAooRWn",
        "outputId": "f5fd2f73-b422-42f5-a0c0-67409ace9a5a"
      },
      "outputs": [],
      "source": [
        "# # install dependencies\n",
        "# !apt install chromium-browser xvfb\n",
        "# !pip install -U selenium_profiles pyChatGPT"
      ]
    },
    {
      "cell_type": "markdown",
      "metadata": {
        "id": "QpzsU1vlnPnr"
      },
      "source": [
        "# Imports"
      ]
    },
    {
      "cell_type": "code",
      "execution_count": 27,
      "metadata": {
        "id": "4s2lpskbnH_e"
      },
      "outputs": [],
      "source": [
        "from pyChatGPT import ChatGPT\n",
        "from youtube_transcript_api import YouTubeTranscriptApi\n",
        "from dotenv import load_dotenv\n",
        "\n",
        "load_dotenv()\n",
        "\n",
        "import os\n",
        "\n",
        "# install chromedriver\n",
        "# from selenium_profiles.utils.installer import install_chromedriver\n",
        "# install_chromedriver()"
      ]
    },
    {
      "cell_type": "markdown",
      "metadata": {
        "id": "uEqXAs_GrENu"
      },
      "source": [
        "# YouTubeTranscriptApi Setup"
      ]
    },
    {
      "cell_type": "code",
      "execution_count": 4,
      "metadata": {
        "id": "oIMUl3b5rEjz"
      },
      "outputs": [],
      "source": [
        "result = YouTubeTranscriptApi.get_transcript('q1Ss8sTbFBY')"
      ]
    },
    {
      "cell_type": "code",
      "execution_count": 14,
      "metadata": {
        "id": "Pf6inzalrVaj"
      },
      "outputs": [],
      "source": [
        "curr_time = 0\n",
        "interval = 1\n",
        "text = []\n",
        "curr_text = \"\"\n",
        "for obj in result:\n",
        "  curr_text += obj['text']\n",
        "  curr_time = obj['start']\n",
        "  if curr_time > interval * 600:\n",
        "    text.append(curr_text)\n",
        "    curr_text = \"\"\n",
        "    interval += 1"
      ]
    },
    {
      "cell_type": "code",
      "execution_count": 16,
      "metadata": {},
      "outputs": [
        {
          "data": {
            "text/plain": [
              "11"
            ]
          },
          "execution_count": 16,
          "metadata": {},
          "output_type": "execute_result"
        }
      ],
      "source": [
        "len(text)"
      ]
    },
    {
      "cell_type": "markdown",
      "metadata": {
        "id": "pypZybIJnRKW"
      },
      "source": [
        "# ChatGPT API Setup"
      ]
    },
    {
      "cell_type": "code",
      "execution_count": 17,
      "metadata": {
        "colab": {
          "base_uri": "https://localhost:8080/"
        },
        "id": "TQSR5zW8nMgJ",
        "outputId": "30f74d69-d39e-4d97-b563-544a98f1ecb2"
      },
      "outputs": [],
      "source": [
        "# session_token = 'eyJhbGciOiJkaXIiLCJlbmMiOiJBMjU2R0NNIn0..oSsqt9Uc4ozsB8z_.8YqJZ12iBK3M1sIt6bGwqEhCY6wjSuLLGpDOJeSH8fwfjokoMuha3DWj8e0mNk8DCwR-EEsnbGiwTLSlpvmIS_Nd8QQT7JJHxaUx1q8jfN18KRJu-Ej69f-t2RMV6eZNgl03-BC2-vA4khtCjAtREt6gwhLukVltSVcjKfYkyXjJdXvA2fcoGb1VHxXkTbEed2h6ntIPcj9o5W1qTkLx79wY9MG0OiA1UyZiSmpnM8E0Uy8Tbf6vOeisvam-iRS4YNxd5f-zpBRT9REPA3N27LYiURkY0bNoqY0aO_eUGDHvh8iv6zYo5rNOa3atrtz06aXOdVLAICAi4Zv9ASPaNVB3RPd_WAg5MnsDA3A8Dd4G-TSv2A6CU3eZAxPNiUSbt-FjQ7zEo3u0kBRhBrpnCd1xLaNJzc_QIidISvXboa0N3OovdJF-3zdo4T5rHblCrswKQj08DCOeaa9KqIp-1ZvJ1mGH6-jROHd9nJqsau62p1droMAui_fX8zPukekgQhlI9g6zReEfL-Hx4ZCcIQ5mAleqz2gqlGXWwRKJNKBps0dhtFNi1umnmdqDZoH-Lu5nlNqrDxUtTjJOFJT1336h8EnaUo6rRrLVkUvyCls6YzdLjB7K_ZA27hRUV7DdvI9y2YO-HcjJ9z4kJKK3wFfCNIC1JibEWNKIoAxip7cSMuBY7h7jt7twCBh3XkseUib6Y3fgXCrRr4IqNgGNNvDmio5784G_TgfD8tQVuy8dcRdVmU8fQUt4H11ZhE2oRFSL2j9MhsIE5Sg7TFcKwee9b8pY2I11b-QMUfr_-x5UAHvGcr2E0eX17Ca9shkpJeF4v8RT1-HMA__bdX5UgUyGD0bgvJjSy6S4lfUIMOId_xpugAVq7K12gfDd8Qvtz65BhepGqSNvHraCaMR_i7doOCxt6x7yNb0dWvd0i_0_JW9GvqxD9lr38GQzWKNwkuLgP3-lE-kMcd0cSxL7fzc3Dy0l7NGf9AAPRjl_RGohd6RSafH9eDogdBClVVFwoXdFMENForuVF7c84GtS7qq5RiSCPI-hUi1RRbz_mGReA4y8zyv9V12w0-EftqIdBBKcK8aUjNFL4FzVxTUzG_v6zI9QVHAs_gtvsPB6VPS31dB1knKc7jmPfS30qdhaZ53-StQr54sPb955oaR6uf76iSf4-nQBc1hoRK0J3NfyqtexhyyvoEAkZJ5NrPFanm7dULBg8udAYsvnnca-SSoiN5ewO_ht61TsBfkA4LbNfmA7qOUHAFcoC29nxaia--oVte-FrcKZQ7Afxj-yBIemJ0wrioc913xcKT2tMqnAdUADmoIrr-6tQEYeY4NrkQAQd1vvVB_-Lh-OltGCxuYCNEfSTtxusM34VzJgh49irIedwQOrt7IVD_a_QBaHaRlZJmzxm7WM-jilftSB6W-mbQtqIPWQfA3kmXN6zyDYbcXZuCe2ZBzdIyu7FDeWa5pSzWa5Ca-5juHMTFfoUMer_iPumWb7MGHc4Dn7KRBhrEYMKbCWMWgk8JfMziOaTYEKkK7nVb2VQnN1uIqK_hnRKmfwJpgoH9AzvRNkwWNYEQPdsC15bEEgw0w_Qv-r7sdopAYTWc2tYLJCk7s2ShfMTOWrF0d-wC9gJ7e0FgUcNQzY9PEW_jVfvJMZuDAuWxDN4HIgr_b_GoLvykn_U_w2aa_OUjAXy_flcN29Su33RGbokSFqkmpsxxnK9h29AF8WbKUFX6IgUKl8h17LPVrxmrQ3AyS6ZEEcLY1Rw2D5zWyVpBAw-fOus-gD2vC-rqAgTu08nXSzlmbZvPk0-fuKTblBTklDYifpiu37NWYGZhSJ5k3zZRlVyyFdJHaKpYd_ecSwMTNeRBA4L4PetK4K5V-y-8LPfskrmKaZS04n8yhWQak3aXOgt6KmxTafYwsno0sg5XtPAjvxqawYxalq2Rk6uMWOzke3tN6hHhzzZ1z7dA1V__tucBlEeZxlN-4SvOLSC_rLx9OCNqAQT5K-BF9RuUkFhEVUsTAGkWS7scPghLdzQ0LEBVAHYxTpJNVFRR3oJd7Nslp2NN5QJay2xnPuRF2qaXeuh7Z73yvXObKt3WlFtV1LFAS73GQNQ55DSW97BFMO8LJuEzFYzEnZJbpY3EpMjU3cQUSX_HnMStodlv6Dl_Z_ORZ-Y8zr46f8RO1mFsTG9jnOB1lPbWN__6hW36coKTBfeLjCTLQdHsk1X1WzSoZ-lCafbrNcuytE7cwOWlrQsnkNnk2dVnVU55jQA7-Y--Gys3li2OfMSv7SNKFgBGy8wkjPK4QRri1p42D4uoN779hsSN9vbB4A7DozwZiqhlJogRB6SBs93AhttVoHsKki2pU.Yz5UVfmUXKykKyRtSy5Uag'\n",
        "# api = ChatGPT(session_token)  # auth with session token"
      ]
    },
    {
      "cell_type": "code",
      "execution_count": null,
      "metadata": {},
      "outputs": [],
      "source": [
        "email = os.getenv(\"EMAIL\")\n",
        "password = os.getenv(\"PASSWORD\")"
      ]
    },
    {
      "cell_type": "code",
      "execution_count": null,
      "metadata": {
        "id": "8p0eX8IPnOHF"
      },
      "outputs": [],
      "source": [
        "api2 = ChatGPT(email='example@domain.com', password='password')  # auth with email and password\n",
        "# api3 = ChatGPT(session_token, conversation_id='some-random-uuid')  # specify a conversation id\n",
        "# api4 = ChatGPT(session_token, proxy='http://proxy.example.com:8080')  # specify proxy"
      ]
    },
    {
      "cell_type": "code",
      "execution_count": 21,
      "metadata": {},
      "outputs": [],
      "source": [
        "notes = \"\"\n",
        "prompt = \"Based on the following YouTube transcript provide a 10 bullet point summary in complete sentences: \\n\"\n",
        "\n",
        "for i in range(len(text)):\n",
        "    notes += api.send_message(prompt + text[i])['message'] + \"\\n\""
      ]
    },
    {
      "cell_type": "code",
      "execution_count": 24,
      "metadata": {},
      "outputs": [
        {
          "name": "stdout",
          "output_type": "stream",
          "text": [
            "1. The speaker advises to keep the duration of workouts shorter, typically around 60 minutes, although they occasionally train for 75 minutes.\n",
            "2. For lower repetitions and heavier weights, it is recommended to do more volume (sets and reps) and longer rest intervals.\n",
            "3. For higher repetitions, it is recommended to do fewer sets and shorter rest intervals.\n",
            "4. The speaker follows a program where they do heavy weight training for about a month, with a repetition range of 4-8 reps and 3-4 sets per exercise.\n",
            "5. The speaker then switches to moderate weight training for the next month, with a repetition range of 8-12 or 15 reps and 2-3 sets per exercise.\n",
            "6. This protocol allows the speaker to make continuous progress and offset boredom.\n",
            "7. The speaker may occasionally do 10 reps in the 4-8 repetition range, but generally clusters lower repetition work for about a month.\n",
            "8. Training with moderate weights and repetition ranges can improve endurance.\n",
            "9. When training with heavy weights, the muscles are tapping into different processes, which can impact endurance.\n",
            "10. The speaker advises to do endurance work on non-lifting days and to vary the type of endurance work.\n",
            "\n",
            "1. A study found that people who did soleus pushups for four and a half hours throughout the day had dramatic improvements in blood sugar regulation and metabolism.\n",
            "2. The soleus muscle is only 1% of the total musculature, but had a large impact on metabolic regulation.\n",
            "3. The study found a 52% reduction in postprandial glucose excursion and 60% reduction in hyperinsulinemia.\n",
            "4. The study has not yet been replicated, but the data suggest that doing soleus pushups continuously while seated can be beneficial for metabolic health.\n",
            "5. Soleus pushups may be especially helpful for those who are injured, traveling, or unable to get enough movement due to other activities.\n",
            "6. The study did not have subjects contract the muscle hard, and the angle of heel raise was between 10-15 degrees.\n",
            "7. It is not clear if the same results would be seen with less time spent doing soleus pushups, but it is likely that doing less would still have some benefit.\n",
            "8. Soleus pushups do not require any equipment and can be done while seated or during other activities.\n",
            "9. It is recommended to divert attention from other tasks to ensure that the pushups are being done continuously.\n",
            "10. Further research is needed to determine the optimal amount of time to spend doing soleus pushups and the specific benefits of this exercise.\n",
            "\n",
            "1. There are different types of endurance, including muscular endurance, anaerobic endurance, and endurance lasting 30 minutes or more.\n",
            "2. The key to improving fitness is to think about modifiable variables and progressive overload.\n",
            "3. The foundational protocol for maximizing all aspects of fitness involves working out for 60 minutes, with a combination of heavy and moderate weight training and cardio.\n",
            "4. The protocol includes two exercises per muscle group, with 3-4 sets of 4-8 reps for heavy weight training and 2-3 sets of 8-12 reps for moderate weight training.\n",
            "5. Rest intervals should be 2-4 minutes for heavy weight training and 90 seconds to 2.5 minutes for moderate weight training.\n",
            "6. Cardio should be done at a moderate intensity for 30-45 minutes.\n",
            "7. The protocol should be followed for 3-4 weeks before switching to a different repetition range for the next month.\n",
            "8. The protocol can be modified to focus on specific goals, such as strength or endurance.\n",
            "9. The protocol can be used as a foundation for balancing strength and endurance, and improving flexibility and hypertrophy.\n",
            "10. The protocol can be used to eliminate pain and improve overall functioning.\n",
            "\n",
            "1. The speaker suggests incorporating a long endurance workout, such as a jog or hike, into a weekly fitness routine.\n",
            "2. This workout should last for around 75 minutes and be done at a moderate intensity level, known as zone 2 cardio.\n",
            "3. The benefits of doing 180-200 minutes of zone 2 cardio per week include improved cardiovascular function and metabolic fuel utilization, as well as muscle endurance and the ability to use the body for long periods of time.\n",
            "4. If this workout is too difficult at first, the speaker suggests starting with a shorter duration and building up gradually.\n",
            "5. Alternatively, a weighted backpack or vest can be used to increase the difficulty of the workout.\n",
            "6. After completing this endurance workout on Sunday, the speaker suggests incorporating other forms of endurance training, such as sprints or high intensity interval training, throughout the week.\n",
            "7. The speaker also recommends focusing on strength training, flexibility, and skill-based exercises during the week.\n",
            "8. These workouts should be structured in a way that allows for progressive overload, where the intensity or difficulty is gradually increased over time.\n",
            "9. It is important to vary the types of workouts and pay attention to modifiable variables, such as intensity and volume, in order to achieve overall fitness improvements.\n",
            "10. The speaker emphasizes the importance of listening to one's body and adjusting the workout routine as needed.\n",
            "\n",
            "1. The speaker believes that training each muscle group twice a week, once directly and once indirectly, is effective for building strength and muscle size.\n",
            "2. Exercise selection is an important variable for muscle strength and size, and the key is to find exercises that allow the muscle to be in a weighted stretch position and in a shortened, contracted position.\n",
            "3. The speaker recommends finding two exercises for each muscle group that allow for both stretch and contraction, and to prioritize exercises that allow for a deep stretch.\n",
            "4. In addition to traditional weight training exercises, the speaker also includes high intensity interval training in their workouts to stimulate endurance and indirectly work certain muscle groups.\n",
            "5. The speaker advises to perform each exercise with proper form and to gradually increase weight or reps as strength and muscle size improve.\n",
            "6. The speaker suggests that rest and recovery are important for muscle growth and advises to take at least one day of rest between muscle group workouts.\n",
            "7. The speaker advises to vary workouts and exercises to prevent boredom and maintain interest in training.\n",
            "8. The speaker recommends including exercises that work multiple muscle groups at the same time, such as lunges and push-ups, in addition to isolation exercises.\n",
            "9. The speaker advises to pay attention to nutrition and hydration in order to support muscle growth and recovery.\n",
            "10. The speaker suggests tracking progress through measurements, photos, and personal observations in order to see improvements and adjust workouts as needed.\n",
            "\n",
            "1. Sunday is an endurance training day, where the goal is to do a long jog or hike to elevate the pulse rate but not to the point of being out of breath.\n",
            "2. The endurance workout on Sunday serves as a foundation for cardiovascular fitness and endurance for the rest of the week.\n",
            "3. The goal is to get 180-200 minutes of zone two cardio per week for positive effects on longevity and general health.\n",
            "4. On Monday, the focus is on leg training with the goal of performing two exercises per muscle group, including one that puts the muscle in a weighted stretch position and one that contracts the muscle in a shortened position.\n",
            "5. Tuesday is a no endurance, no resistance training day, where the focus is on heat cold contrast through the use of a hot sauna and cold water bath or hot bath and cold showers.\n",
            "6. The goal of heat cold contrast on Tuesday is to accelerate recovery from the previous leg workout and to get the benefits of both heat and cold exposure.\n",
            "7. Wednesday is a high intensity interval training day, where the goal is to get the heart rate very high.\n",
            "8. Thursday is a rest day, where the focus is on mobility work and optional yoga or meditation.\n",
            "9. Friday is a high intensity interval training day similar to Wednesday, but with a focus on muscle endurance rather than cardiovascular endurance.\n",
            "10. Saturday is a weight training day, where the focus is on upper body training with the goal of performing two exercises per muscle group and including both compound and isolation exercises.\n",
            "\n",
            "1. The speaker believes that stimulating muscle hypertrophy or strength increases impacts the nervous system and causes things like protein synthesis.\n",
            "2. The speaker recovers slowly and benefits from working the same muscle group about twice per week with longer rest days in between.\n",
            "3. On Friday, the speaker does a high intensity interval training session that serves as a supplement or moderate intensity workout for the quadriceps, hamstrings, and calves.\n",
            "4. The speaker does not squat or deadlift and instead uses exercises like leg extensions and hack squats for the quadriceps, leg curls and glute-ham raises for the hamstrings, and standing and seated calf raises for the calves.\n",
            "5. The speaker recommends finding an exercise for each muscle group that puts the muscle into a weighted stretch position and another exercise that puts the muscle into a shortened position of contraction.\n",
            "6. On Tuesday, the speaker does a series of heat-cold contrast by getting into a hot sauna or taking a hot bath and then alternating with cold showers or ice baths.\n",
            "7. This day is meant to accelerate recovery from the previous leg workout and also has benefits for overall health and fitness.\n",
            "8. On Wednesday, the speaker trains the torso muscles in a push-pull fashion for time efficiency and to get the systemic hormonal and metabolic effects of training multiple muscle groups together.\n",
            "9. On Thursday, the speaker trains the upper and lower body in a circuit fashion, doing one upper body exercise followed by one lower body exercise and repeating the circuit until all the muscle groups have been trained.\n",
            "10. The speaker recommends finding exercises that challenge the muscles through a full range of motion and avoiding exercises that cause pain or discomfort.\n",
            "11. On Friday, the speaker does a high intensity interval training session that serves as a supplement or moderate intensity workout for the quadriceps, hamstrings, and calves.\n",
            "\n",
            "1. The speaker's optimal fitness protocol involves working out different muscle groups on specific days of the week.\n",
            "2. On Sunday, the speaker does a long ruck or weighted hike or jog, focusing on nasal breathing if alone.\n",
            "3. On Monday, the speaker does a leg workout.\n",
            "4. On Tuesday, the speaker does heat cold contrast, involving a hot sauna or hot bath followed by a cold water bath or cold shower, to improve recovery and get the benefits of heat and cold.\n",
            "5. On Wednesday, the speaker trains the torso with pushing and pulling exercises.\n",
            "6. On Thursday, the speaker does a cardiovascular workout for 35 minutes at 75-80% of maximal effort, which can involve running, rowing, stationary biking, burpees, or jumping jacks.\n",
            "7. On Friday, the speaker does a full body workout, focusing on hypertrophy and muscular endurance.\n",
            "8. On Saturday, the speaker does a yoga or Pilates class or practices meditation.\n",
            "9. The speaker's optimal fitness protocol is designed to provide all-around fitness, allowing them to walk long distances with weight, lift heavy objects, run fast for short periods of time, and run a bit further.\n",
            "10. The speaker's workouts can be modified based on access to equipment and location, and can involve running stairs, doing jumping jacks in a hotel room, or practicing yoga or Pilates at home.\n",
            "\n",
            "1. The foundational fitness protocol is a weekly workout plan that includes activities that train multiple aspects of fitness, including strength, endurance, and cardiovascular health.\n",
            "2. The plan includes activities such as weighted hikes or jogs on Sundays, leg strength training on Mondays, torso and upper body strength training on Wednesdays, cardiovascular exercise on Thursdays, and arm, calf, and neck training on Saturdays.\n",
            "3. The plan also includes rest days on Tuesdays, Fridays, and Sundays.\n",
            "4. The plan emphasizes the importance of proper form and avoiding injury when doing high intensity interval training or all-out sprints.\n",
            "5. The plan can be modified to fit an individual's needs and abilities, including substituting different exercises or equipment.\n",
            "6. The plan is designed to provide a well-rounded fitness routine that can improve overall strength, endurance, and cardiovascular health.\n",
            "7. The plan can be adjusted to allow for muscle recovery and prevent overtraining.\n",
            "8. The plan includes the option to do pure nasal breathing during certain activities to improve breathing efficiency.\n",
            "9. The plan includes suggestions for alternative exercises or equipment that can be used if necessary, such as burpees or jumping jacks.\n",
            "10. The plan includes the option to substitute different cardiovascular exercises, such as running, rowing, or biking, depending on an individual's preferences and access to equipment.\n",
            "\n",
            "1. The goal of the foundational fitness program is to get three types of workouts in each week: a long endurance workout, a moderate endurance workout, and a high intensity interval training workout.\n",
            "2. Resistance training should be done for every muscle group in the body at least once a week.\n",
            "3. The specific days of the week for each workout are not as important as the spacing between them.\n",
            "4. It is important to have a mind-muscle connection during resistance training to maximize strength and hypertrophy gains.\n",
            "5. The foundational fitness program should leave an individual in a state where they are able to walk far and carry weight, lift heavy objects with their legs, run fast for a short time, and run longer for ten minutes.\n",
            "6. The program includes a Sunday long ruck, weighted hike, or jog, a Wednesday leg workout, a Thursday cardiovascular workout, a Friday high intensity interval training workout, and a Saturday arm, calf, and neck workout.\n",
            "7. The program can be modified to fit an individual's needs and preferences.\n",
            "8. Recovery is important and can be optimized through proper nutrition, sleep, and stress management.\n",
            "9. Individuals should start with the exercises they find most difficult and progress to the easiest ones.\n",
            "10. The foundational fitness program should be sustainable and enjoyable.\n",
            "\n",
            "1. This YouTube video discusses a foundational fitness program that includes cardiovascular exercise, resistance training, and flexibility.\n",
            "2. The program recommends getting in at least three cardiovascular workouts per week, including long endurance, moderate faster endurance, and high intensity interval training.\n",
            "3. Resistance training should be done for every muscle group in the body at least once a week, with a focus on the legs, torso, and arms.\n",
            "4. Calves and neck should also be trained at least once a week, with neck training being important for overall strength and stability.\n",
            "5. It is suggested to train fasted, but it is not strictly necessary and it is more important to train at all than to worry about whether you are fasted or not.\n",
            "6. Static stretching, where a stretch is held for 30-60 seconds and repeated two or three times, is recommended for increasing flexibility.\n",
            "7. Dynamic stretching, where stretches are done while moving, can be done before a workout to prepare the body for exercise.\n",
            "8. Stretching should not be done to the point of pain and should be done with the muscles relaxed.\n",
            "9. It is important to listen to your body and adjust your workouts as needed based on how you feel.\n",
            "10. Nutrition is a key component of fitness and it is important to figure out what works best for you and your particular goals.\n",
            "\n",
            "\n"
          ]
        }
      ],
      "source": [
        "pretty_notes = notes.split(\"\\n\")\n",
        "\n",
        "for i in range(len(pretty_notes)):\n",
        "    print(pretty_notes[i])"
      ]
    },
    {
      "cell_type": "code",
      "execution_count": 20,
      "metadata": {
        "id": "TgN9hwsmnBvX"
      },
      "outputs": [],
      "source": [
        "api.reset_conversation()  # reset the conversation\n",
        "api.refresh_chat_page()  # refresh the chat page"
      ]
    },
    {
      "cell_type": "code",
      "execution_count": null,
      "metadata": {},
      "outputs": [],
      "source": []
    }
  ],
  "metadata": {
    "colab": {
      "provenance": []
    },
    "kernelspec": {
      "display_name": "Python 3",
      "language": "python",
      "name": "python3"
    },
    "language_info": {
      "codemirror_mode": {
        "name": "ipython",
        "version": 3
      },
      "file_extension": ".py",
      "mimetype": "text/x-python",
      "name": "python",
      "nbconvert_exporter": "python",
      "pygments_lexer": "ipython3",
      "version": "3.9.1"
    },
    "vscode": {
      "interpreter": {
        "hash": "2c1715a88d06923266e8248b82b3e765c4bf779c2d6765688e4035450030da9c"
      }
    }
  },
  "nbformat": 4,
  "nbformat_minor": 0
}
